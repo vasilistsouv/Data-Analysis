{
 "cells": [
  {
   "cell_type": "markdown",
   "metadata": {
    "application/vnd.databricks.v1+cell": {
     "cellMetadata": {},
     "inputWidgets": {},
     "nuid": "8a60efcd-5875-444b-b75c-5ed2c3cebe0a",
     "showTitle": false,
     "title": ""
    }
   },
   "source": [
    "Acess Azure data lake using acess keys\n",
    "# 1. Set the spark config.fs.aure.account.key\n",
    "# 2.List files from the container\n",
    "# 3.read data from the container"
   ]
  },
  {
   "cell_type": "code",
   "execution_count": 0,
   "metadata": {
    "application/vnd.databricks.v1+cell": {
     "cellMetadata": {
      "byteLimit": 2048000,
      "rowLimit": 10000
     },
     "inputWidgets": {},
     "nuid": "3ae02b39-574c-4974-b184-93204a085e93",
     "showTitle": false,
     "title": ""
    }
   },
   "outputs": [],
   "source": [
    "##Get the keys to access the file\n",
    "spark.conf.set(\"fs.azure.account.key.formulaprojectvts.dfs.core.windows.net\",'#\")"
   ]
  },
  {
   "cell_type": "code",
   "execution_count": 0,
   "metadata": {
    "application/vnd.databricks.v1+cell": {
     "cellMetadata": {
      "byteLimit": 2048000,
      "rowLimit": 10000
     },
     "inputWidgets": {},
     "nuid": "7fab8c0b-7a8b-437e-9026-a6e630080ec4",
     "showTitle": false,
     "title": ""
    }
   },
   "outputs": [
    {
     "output_type": "display_data",
     "data": {
      "text/html": [
       "<style scoped>\n",
       "  .table-result-container {\n",
       "    max-height: 300px;\n",
       "    overflow: auto;\n",
       "  }\n",
       "  table, th, td {\n",
       "    border: 1px solid black;\n",
       "    border-collapse: collapse;\n",
       "  }\n",
       "  th, td {\n",
       "    padding: 5px;\n",
       "  }\n",
       "  th {\n",
       "    text-align: left;\n",
       "  }\n",
       "</style><div class='table-result-container'><table class='table-result'><thead style='background-color: white'><tr><th>path</th><th>name</th><th>size</th><th>modificationTime</th></tr></thead><tbody><tr><td>abfss://bigdata@formulaprojectvts.dfs.core.windows.net/stock_data.csv</td><td>stock_data.csv</td><td>558951</td><td>1705175611000</td></tr></tbody></table></div>"
      ]
     },
     "metadata": {
      "application/vnd.databricks.v1+output": {
       "addedWidgets": {},
       "aggData": [],
       "aggError": "",
       "aggOverflow": false,
       "aggSchema": [],
       "aggSeriesLimitReached": false,
       "aggType": "",
       "arguments": {},
       "columnCustomDisplayInfos": {},
       "data": [
        [
         "abfss://bigdata@formulaprojectvts.dfs.core.windows.net/stock_data.csv",
         "stock_data.csv",
         558951,
         1705175611000
        ]
       ],
       "datasetInfos": [],
       "dbfsResultPath": null,
       "isJsonSchema": true,
       "metadata": {},
       "overflow": false,
       "plotOptions": {
        "customPlotOptions": {},
        "displayType": "table",
        "pivotAggregation": null,
        "pivotColumns": null,
        "xColumns": null,
        "yColumns": null
       },
       "removedWidgets": [],
       "schema": [
        {
         "metadata": "{}",
         "name": "path",
         "type": "\"string\""
        },
        {
         "metadata": "{}",
         "name": "name",
         "type": "\"string\""
        },
        {
         "metadata": "{}",
         "name": "size",
         "type": "\"long\""
        },
        {
         "metadata": "{}",
         "name": "modificationTime",
         "type": "\"long\""
        }
       ],
       "type": "table"
      }
     },
     "output_type": "display_data"
    }
   ],
   "source": [
    " ###See the files from file containers using dbutils\n",
    " ##use the dbutils mexri to // meta einai to onoma tou container@ storage accountname\n",
    " display(dbutils.fs.ls(\"abfss://bigdata@formulaprojectvts.dfs.core.windows.net\"))"
   ]
  },
  {
   "cell_type": "code",
   "execution_count": 0,
   "metadata": {
    "application/vnd.databricks.v1+cell": {
     "cellMetadata": {
      "byteLimit": 2048000,
      "rowLimit": 10000
     },
     "inputWidgets": {},
     "nuid": "143718bc-1b64-4af0-8ac7-b07de5e8266d",
     "showTitle": false,
     "title": ""
    }
   },
   "outputs": [],
   "source": [
    "stock_data = spark.read.option('header','true').csv(\"abfss://bigdata@formulaprojectvts.dfs.core.windows.net/stock_data.csv\")"
   ]
  },
  {
   "cell_type": "code",
   "execution_count": 0,
   "metadata": {
    "application/vnd.databricks.v1+cell": {
     "cellMetadata": {
      "byteLimit": 2048000,
      "rowLimit": 10000
     },
     "inputWidgets": {},
     "nuid": "893265d4-c3ca-448e-a19f-ec0ac287c39a",
     "showTitle": false,
     "title": ""
    }
   },
   "outputs": [],
   "source": [
    "\n",
    "stock_data = stock_data.toPandas()"
   ]
  },
  {
   "cell_type": "code",
   "execution_count": 0,
   "metadata": {
    "application/vnd.databricks.v1+cell": {
     "cellMetadata": {
      "byteLimit": 2048000,
      "rowLimit": 10000
     },
     "inputWidgets": {},
     "nuid": "c4dacc05-89ff-431f-804c-99818df4c3ce",
     "showTitle": false,
     "title": ""
    }
   },
   "outputs": [],
   "source": [
    "\n",
    "stock_data=stock_data.reset_index()"
   ]
  },
  {
   "cell_type": "code",
   "execution_count": 0,
   "metadata": {
    "application/vnd.databricks.v1+cell": {
     "cellMetadata": {
      "byteLimit": 2048000,
      "rowLimit": 10000
     },
     "inputWidgets": {},
     "nuid": "ac2a67ae-9fb4-40ff-9c0a-97c79d914d6d",
     "showTitle": false,
     "title": ""
    }
   },
   "outputs": [
    {
     "output_type": "stream",
     "name": "stdout",
     "output_type": "stream",
     "text": [
      "<class 'pandas.core.frame.DataFrame'>\nRangeIndex: 251 entries, 0 to 250\nColumns: 121 entries, Date to PFE_Adj Close\ndtypes: datetime64[ns](1), float64(101), int64(19)\nmemory usage: 237.4 KB\n"
     ]
    }
   ],
   "source": [
    "stock_data.info()"
   ]
  },
  {
   "cell_type": "code",
   "execution_count": 0,
   "metadata": {
    "application/vnd.databricks.v1+cell": {
     "cellMetadata": {
      "byteLimit": 2048000,
      "rowLimit": 10000
     },
     "inputWidgets": {},
     "nuid": "fcacb530-b85d-4aa6-9f7d-12dc0b4c64b8",
     "showTitle": false,
     "title": ""
    }
   },
   "outputs": [
    {
     "output_type": "display_data",
     "data": {
      "text/plain": [
       "\u001B[0;31m---------------------------------------------------------------------------\u001B[0m\n",
       "\u001B[0;31mNameError\u001B[0m                                 Traceback (most recent call last)\n",
       "\u001B[0;32m<command-2976264076564521>\u001B[0m in \u001B[0;36m<cell line: 2>\u001B[0;34m()\u001B[0m\n",
       "\u001B[1;32m      1\u001B[0m \u001B[0;31m# Summary statistics for each column\u001B[0m\u001B[0;34m\u001B[0m\u001B[0;34m\u001B[0m\u001B[0;34m\u001B[0m\u001B[0m\n",
       "\u001B[0;32m----> 2\u001B[0;31m \u001B[0msummary_stats\u001B[0m \u001B[0;34m=\u001B[0m \u001B[0mstock_data\u001B[0m\u001B[0;34m.\u001B[0m\u001B[0mdescribe\u001B[0m\u001B[0;34m(\u001B[0m\u001B[0;34m)\u001B[0m\u001B[0;34m\u001B[0m\u001B[0;34m\u001B[0m\u001B[0m\n",
       "\u001B[0m\u001B[1;32m      3\u001B[0m \u001B[0;34m\u001B[0m\u001B[0m\n",
       "\u001B[1;32m      4\u001B[0m \u001B[0;31m# Display summary statistics\u001B[0m\u001B[0;34m\u001B[0m\u001B[0;34m\u001B[0m\u001B[0;34m\u001B[0m\u001B[0m\n",
       "\u001B[1;32m      5\u001B[0m \u001B[0mprint\u001B[0m\u001B[0;34m(\u001B[0m\u001B[0msummary_stats\u001B[0m\u001B[0;34m)\u001B[0m\u001B[0;34m\u001B[0m\u001B[0;34m\u001B[0m\u001B[0m\n",
       "\n",
       "\u001B[0;31mNameError\u001B[0m: name 'stock_data' is not defined"
      ]
     },
     "metadata": {
      "application/vnd.databricks.v1+output": {
       "arguments": {},
       "data": "\u001B[0;31m---------------------------------------------------------------------------\u001B[0m\n\u001B[0;31mNameError\u001B[0m                                 Traceback (most recent call last)\n\u001B[0;32m<command-2976264076564521>\u001B[0m in \u001B[0;36m<cell line: 2>\u001B[0;34m()\u001B[0m\n\u001B[1;32m      1\u001B[0m \u001B[0;31m# Summary statistics for each column\u001B[0m\u001B[0;34m\u001B[0m\u001B[0;34m\u001B[0m\u001B[0;34m\u001B[0m\u001B[0m\n\u001B[0;32m----> 2\u001B[0;31m \u001B[0msummary_stats\u001B[0m \u001B[0;34m=\u001B[0m \u001B[0mstock_data\u001B[0m\u001B[0;34m.\u001B[0m\u001B[0mdescribe\u001B[0m\u001B[0;34m(\u001B[0m\u001B[0;34m)\u001B[0m\u001B[0;34m\u001B[0m\u001B[0;34m\u001B[0m\u001B[0m\n\u001B[0m\u001B[1;32m      3\u001B[0m \u001B[0;34m\u001B[0m\u001B[0m\n\u001B[1;32m      4\u001B[0m \u001B[0;31m# Display summary statistics\u001B[0m\u001B[0;34m\u001B[0m\u001B[0;34m\u001B[0m\u001B[0;34m\u001B[0m\u001B[0m\n\u001B[1;32m      5\u001B[0m \u001B[0mprint\u001B[0m\u001B[0;34m(\u001B[0m\u001B[0msummary_stats\u001B[0m\u001B[0;34m)\u001B[0m\u001B[0;34m\u001B[0m\u001B[0;34m\u001B[0m\u001B[0m\n\n\u001B[0;31mNameError\u001B[0m: name 'stock_data' is not defined",
       "errorSummary": "<span class='ansi-red-fg'>NameError</span>: name 'stock_data' is not defined",
       "errorTraceType": "ansi",
       "metadata": {},
       "type": "ipynbError"
      }
     },
     "output_type": "display_data"
    }
   ],
   "source": [
    "# Summary statistics for each column\n",
    "summary_stats = stock_data.describe()\n",
    "\n",
    "# Display summary statistics\n",
    "print(summary_stats)"
   ]
  },
  {
   "cell_type": "code",
   "execution_count": 0,
   "metadata": {
    "application/vnd.databricks.v1+cell": {
     "cellMetadata": {
      "byteLimit": 2048000,
      "rowLimit": 10000
     },
     "inputWidgets": {},
     "nuid": "f75e8f83-0a3d-49ee-b48d-426bc4d5b960",
     "showTitle": false,
     "title": ""
    }
   },
   "outputs": [
    {
     "output_type": "stream",
     "name": "stdout",
     "output_type": "stream",
     "text": [
      "   AAPL_Close  AAPL_Adj Close  GOOGL_Close  GOOGL_Adj Close  MSFT_Close  \\\n0         NaN             NaN          NaN              NaN         NaN   \n1    0.008756        0.008756    -0.009010        -0.009010    0.004682   \n2   -0.005370       -0.005370    -0.001862        -0.001862   -0.018889   \n3    0.000444        0.000444     0.021181         0.021181   -0.016454   \n4    0.019221        0.019221     0.053412         0.053412    0.035744   \n\n   MSFT_Adj Close  AMZN_Close  AMZN_Adj Close  TSLA_Close  TSLA_Adj Close  \\\n0             NaN         NaN             NaN         NaN             NaN   \n1        0.004682   -0.021097       -0.021097    0.074265        0.074265   \n2       -0.018889   -0.006143       -0.006143   -0.020610       -0.020610   \n3       -0.016454   -0.018647       -0.018647   -0.012502       -0.012502   \n4        0.035744    0.038108        0.038108    0.049147        0.049147   \n\n   ...  DIS_Close  DIS_Adj Close  XOM_Close  XOM_Adj Close  CVX_Close  \\\n0  ...        NaN            NaN        NaN            NaN        NaN   \n1  ...   0.005131       0.005131  -0.001944      -0.001944   0.016502   \n2  ...  -0.008708      -0.008708  -0.020544      -0.020544  -0.018062   \n3  ...   0.000404       0.000404   0.006419       0.006419   0.009987   \n4  ...   0.044409       0.044409   0.018236       0.018236   0.010614   \n\n   CVX_Adj Close  KO_Close  KO_Adj Close  PFE_Close  PFE_Adj Close  \n0            NaN       NaN           NaN        NaN            NaN  \n1       0.016502  0.004070      0.004070  -0.036991      -0.036991  \n2      -0.018062 -0.030318     -0.030318  -0.023438      -0.023437  \n3       0.009987 -0.001505     -0.001505  -0.000889      -0.000889  \n4       0.010615  0.006028      0.006028   0.003336       0.003336  \n\n[5 rows x 40 columns]\n"
     ]
    }
   ],
   "source": [
    "# Calculate daily returns for each stock\n",
    "daily_returns = stock_data.filter(like='Close').pct_change()\n",
    "\n",
    "# Display daily returns\n",
    "print(daily_returns.head())"
   ]
  },
  {
   "cell_type": "code",
   "execution_count": 0,
   "metadata": {
    "application/vnd.databricks.v1+cell": {
     "cellMetadata": {
      "byteLimit": 2048000,
      "rowLimit": 10000
     },
     "inputWidgets": {},
     "nuid": "1916f875-d816-407a-a164-1e9241cd9dd8",
     "showTitle": false,
     "title": ""
    }
   },
   "outputs": [],
   "source": [
    "# Calculate the correlation matrix of daily returns between stocks\n",
    "correlation_matrix = daily_returns.corr()\n",
    "\n",
    "# Display the correlation matrix\n",
    "print(correlation_matrix)\n"
   ]
  },
  {
   "cell_type": "code",
   "execution_count": 0,
   "metadata": {
    "application/vnd.databricks.v1+cell": {
     "cellMetadata": {
      "byteLimit": 2048000,
      "rowLimit": 10000
     },
     "inputWidgets": {},
     "nuid": "a1d095b1-3d98-46e3-b809-2c17c0f0e207",
     "showTitle": false,
     "title": ""
    }
   },
   "outputs": [
    {
     "output_type": "stream",
     "name": "stdout",
     "output_type": "stream",
     "text": [
      "<class 'pandas.core.frame.DataFrame'>\nRangeIndex: 251 entries, 0 to 250\nColumns: 121 entries, Date to PFE_Adj Close\ndtypes: datetime64[ns](1), float64(101), int64(19)\nmemory usage: 237.4 KB\n"
     ]
    }
   ],
   "source": [
    "stock_data.info()"
   ]
  },
  {
   "cell_type": "code",
   "execution_count": 0,
   "metadata": {
    "application/vnd.databricks.v1+cell": {
     "cellMetadata": {
      "byteLimit": 2048000,
      "rowLimit": 10000
     },
     "inputWidgets": {},
     "nuid": "ce5815fd-3c33-48c0-bcc2-aeae61be1045",
     "showTitle": false,
     "title": ""
    }
   },
   "outputs": [
    {
     "output_type": "stream",
     "name": "stdout",
     "output_type": "stream",
     "text": [
      "AAPL_Volume     5.845548e+07\nGOOGL_Volume    3.243627e+07\nMSFT_Volume     2.732347e+07\nAMZN_Volume     5.781722e+07\nTSLA_Volume     1.344691e+08\nFB_Volume                NaN\nV_Volume        5.922710e+06\nPYPL_Volume     1.531671e+07\nNFLX_Volume     6.239489e+06\nINTC_Volume     4.195786e+07\nCSCO_Volume     1.863513e+07\nIBM_Volume      4.466919e+06\nGS_Volume       2.344955e+06\nJPM_Volume      1.080496e+07\nBA_Volume       5.849110e+06\nDIS_Volume      1.300355e+07\nXOM_Volume      1.759508e+07\nCVX_Volume      8.708163e+06\nKO_Volume       1.380185e+07\nPFE_Volume      2.881933e+07\ndtype: float64\n"
     ]
    }
   ],
   "source": [
    "# Calculate the average volume for each stock\n",
    "average_volume = stock_data.filter(like='Volume').mean()\n",
    "\n",
    "# Display average volume\n",
    "print(average_volume)"
   ]
  },
  {
   "cell_type": "code",
   "execution_count": 0,
   "metadata": {
    "application/vnd.databricks.v1+cell": {
     "cellMetadata": {
      "byteLimit": 2048000,
      "rowLimit": 10000
     },
     "inputWidgets": {},
     "nuid": "6aff9a17-fddf-4009-9a21-fa79ae0366f1",
     "showTitle": false,
     "title": ""
    }
   },
   "outputs": [],
   "source": []
  },
  {
   "cell_type": "code",
   "execution_count": 0,
   "metadata": {
    "application/vnd.databricks.v1+cell": {
     "cellMetadata": {
      "byteLimit": 2048000,
      "rowLimit": 10000
     },
     "inputWidgets": {},
     "nuid": "8ecedfc1-b6ff-4206-a5db-fdacbf786b92",
     "showTitle": false,
     "title": ""
    }
   },
   "outputs": [],
   "source": [
    "df = stock_data"
   ]
  },
  {
   "cell_type": "code",
   "execution_count": 0,
   "metadata": {
    "application/vnd.databricks.v1+cell": {
     "cellMetadata": {
      "byteLimit": 2048000,
      "rowLimit": 10000
     },
     "inputWidgets": {},
     "nuid": "d2138a7b-af4e-4e3f-92d6-1368276ed447",
     "showTitle": false,
     "title": ""
    }
   },
   "outputs": [
    {
     "output_type": "stream",
     "name": "stdout",
     "output_type": "stream",
     "text": [
      "First few rows:\n        Date   AAPL_Open   AAPL_High    AAPL_Low  AAPL_Close  AAPL_Volume  \\\n0 2023-01-13  132.029999  134.919998  131.660004  134.759995     57809700   \n1 2023-01-17  134.830002  137.289993  134.130005  135.940002     63646600   \n2 2023-01-18  136.820007  138.610001  135.029999  135.210007     69672800   \n3 2023-01-19  134.080002  136.250000  133.770004  135.270004     58280400   \n4 2023-01-20  135.279999  138.020004  134.220001  137.869995     80223600   \n\n   AAPL_Adj Close  GOOGL_Open  GOOGL_High  GOOGL_Low  ...     KO_Low  \\\n0      134.010956   90.849998   92.190002  90.129997  ...  60.590000   \n1      135.184387   92.059998   92.250000  90.050003  ...  61.560001   \n2      134.458450   92.139999   92.800003  90.639999  ...  59.680000   \n3      134.518112   90.720001   93.610001  90.629997  ...  59.709999   \n4      137.103638   95.099998   98.300003  95.019997  ...  59.400002   \n\n    KO_Close  KO_Volume  KO_Adj Close   PFE_Open   PFE_High    PFE_Low  \\\n0  61.430000   13986400     59.551205  47.500000  48.160000  47.490002   \n1  61.680000   18327800     59.793556  46.540001  46.740002  45.709999   \n2  59.810001   19679400     57.980751  45.549999  45.849998  44.970001   \n3  59.720001   14894500     57.893501  44.720001  45.270000  44.639999   \n4  60.080002   14237700     58.242493  45.279999  45.430000  44.730000   \n\n   PFE_Close  PFE_Volume  PFE_Adj Close  \n0  47.849998    18737500      45.773155  \n1  46.080002    29391400      44.079983  \n2  45.000000    33835000      43.046864  \n3  44.959999    26614900      43.008595  \n4  45.110001    25197600      43.152081  \n\n[5 rows x 121 columns]\n\nLast few rows:\n          Date   AAPL_Open   AAPL_High    AAPL_Low  AAPL_Close  AAPL_Volume  \\\n246 2024-01-08  182.089996  185.600006  181.500000  185.559998     59144500   \n247 2024-01-09  183.919998  185.149994  182.729996  185.139999     42841800   \n248 2024-01-10  184.350006  186.399994  183.919998  186.190002     46792900   \n249 2024-01-11  186.539993  187.050003  183.619995  185.589996     49128400   \n250 2024-01-12  186.059998  186.740005  185.190002  185.919998     40444700   \n\n     AAPL_Adj Close  GOOGL_Open  GOOGL_High   GOOGL_Low  ...     KO_Low  \\\n246      185.559998  136.289993  139.009995  136.259995  ...  59.419998   \n247      185.139999  138.500000  141.490005  138.149994  ...  59.619999   \n248      186.190002  141.000000  143.000000  140.910004  ...  59.980000   \n249      185.589996  143.490005  145.220001  140.639999  ...  59.689999   \n250      185.919998  142.669998  143.199997  141.820007  ...  59.869999   \n\n      KO_Close  KO_Volume  KO_Adj Close   PFE_Open   PFE_High    PFE_Low  \\\n246  60.110001   11554600     60.110001  29.360001  29.680000  29.170000   \n247  60.000000   10493700     60.000000  29.600000  29.860001  29.320000   \n248  60.200001   12258000     60.200001  29.360001  29.389999  28.879999   \n249  59.810001   13754200     59.810001  28.830000  28.920000  28.270000   \n250  60.389999   13216900     60.389999  28.459999  28.940001  28.440001   \n\n     PFE_Close  PFE_Volume  PFE_Adj Close  \n246  29.580000    32972100      29.580000  \n247  29.400000    39856900      29.400000  \n248  28.990000    37413300      28.990000  \n249  28.400000    46884700      28.400000  \n250  28.700001    30349700      28.700001  \n\n[5 rows x 121 columns]\n"
     ]
    }
   ],
   "source": [
    "# 1. Viewing Data\n",
    "print(\"First few rows:\")\n",
    "print(df.head())\n",
    "\n",
    "print(\"\\nLast few rows:\")\n",
    "print(df.tail())\n"
   ]
  },
  {
   "cell_type": "code",
   "execution_count": 0,
   "metadata": {
    "application/vnd.databricks.v1+cell": {
     "cellMetadata": {
      "byteLimit": 2048000,
      "rowLimit": 10000
     },
     "inputWidgets": {},
     "nuid": "e1735205-86db-4da2-b12b-3059035117ea",
     "showTitle": false,
     "title": ""
    }
   },
   "outputs": [
    {
     "output_type": "stream",
     "name": "stdout",
     "output_type": "stream",
     "text": [
      "\nDataFrame info:\n<class 'pandas.core.frame.DataFrame'>\nRangeIndex: 251 entries, 0 to 250\nColumns: 121 entries, Date to PFE_Adj Close\ndtypes: datetime64[ns](1), float64(101), int64(19)\nmemory usage: 237.4 KB\nNone\n"
     ]
    }
   ],
   "source": [
    "print(\"\\nDataFrame info:\")\n",
    "print(df.info())\n"
   ]
  },
  {
   "cell_type": "code",
   "execution_count": 0,
   "metadata": {
    "application/vnd.databricks.v1+cell": {
     "cellMetadata": {
      "byteLimit": 2048000,
      "rowLimit": 10000
     },
     "inputWidgets": {},
     "nuid": "f69f2bfa-d968-425f-92cc-19678370fc45",
     "showTitle": false,
     "title": ""
    }
   },
   "outputs": [
    {
     "output_type": "stream",
     "name": "stdout",
     "output_type": "stream",
     "text": [
      "\nMissing values per column:\nDate             0\nAAPL_Open        0\nAAPL_High        0\nAAPL_Low         0\nAAPL_Close       0\n                ..\nPFE_High         0\nPFE_Low          0\nPFE_Close        0\nPFE_Volume       0\nPFE_Adj Close    0\nLength: 121, dtype: int64\n"
     ]
    }
   ],
   "source": [
    "# 3. Handling Missing Data\n",
    "print(\"\\nMissing values per column:\")\n",
    "print(df.isnull().sum())"
   ]
  },
  {
   "cell_type": "code",
   "execution_count": 0,
   "metadata": {
    "application/vnd.databricks.v1+cell": {
     "cellMetadata": {
      "byteLimit": 2048000,
      "rowLimit": 10000
     },
     "inputWidgets": {},
     "nuid": "478e5bdc-1a51-42fe-adbc-98fa4f8f0539",
     "showTitle": false,
     "title": ""
    }
   },
   "outputs": [
    {
     "output_type": "stream",
     "name": "stdout",
     "output_type": "stream",
     "text": [
      "\nFiltered DataFrame:\n          Date   AAPL_Open   AAPL_High    AAPL_Low  AAPL_Close  AAPL_Volume  \\\n0   2023-01-13  132.029999  134.919998  131.660004  134.759995     57809700   \n1   2023-01-17  134.830002  137.289993  134.130005  135.940002     63646600   \n2   2023-01-18  136.820007  138.610001  135.029999  135.210007     69672800   \n3   2023-01-19  134.080002  136.250000  133.770004  135.270004     58280400   \n4   2023-01-20  135.279999  138.020004  134.220001  137.869995     80223600   \n..         ...         ...         ...         ...         ...          ...   \n246 2024-01-08  182.089996  185.600006  181.500000  185.559998     59144500   \n247 2024-01-09  183.919998  185.149994  182.729996  185.139999     42841800   \n248 2024-01-10  184.350006  186.399994  183.919998  186.190002     46792900   \n249 2024-01-11  186.539993  187.050003  183.619995  185.589996     49128400   \n250 2024-01-12  186.059998  186.740005  185.190002  185.919998     40444700   \n\n     AAPL_Adj Close  GOOGL_Open  GOOGL_High   GOOGL_Low  ...     KO_Low  \\\n0        134.010956   90.849998   92.190002   90.129997  ...  60.590000   \n1        135.184387   92.059998   92.250000   90.050003  ...  61.560001   \n2        134.458450   92.139999   92.800003   90.639999  ...  59.680000   \n3        134.518112   90.720001   93.610001   90.629997  ...  59.709999   \n4        137.103638   95.099998   98.300003   95.019997  ...  59.400002   \n..              ...         ...         ...         ...  ...        ...   \n246      185.559998  136.289993  139.009995  136.259995  ...  59.419998   \n247      185.139999  138.500000  141.490005  138.149994  ...  59.619999   \n248      186.190002  141.000000  143.000000  140.910004  ...  59.980000   \n249      185.589996  143.490005  145.220001  140.639999  ...  59.689999   \n250      185.919998  142.669998  143.199997  141.820007  ...  59.869999   \n\n      KO_Close  KO_Volume  KO_Adj Close   PFE_Open   PFE_High    PFE_Low  \\\n0    61.430000   13986400     59.551205  47.500000  48.160000  47.490002   \n1    61.680000   18327800     59.793556  46.540001  46.740002  45.709999   \n2    59.810001   19679400     57.980751  45.549999  45.849998  44.970001   \n3    59.720001   14894500     57.893501  44.720001  45.270000  44.639999   \n4    60.080002   14237700     58.242493  45.279999  45.430000  44.730000   \n..         ...        ...           ...        ...        ...        ...   \n246  60.110001   11554600     60.110001  29.360001  29.680000  29.170000   \n247  60.000000   10493700     60.000000  29.600000  29.860001  29.320000   \n248  60.200001   12258000     60.200001  29.360001  29.389999  28.879999   \n249  59.810001   13754200     59.810001  28.830000  28.920000  28.270000   \n250  60.389999   13216900     60.389999  28.459999  28.940001  28.440001   \n\n     PFE_Close  PFE_Volume  PFE_Adj Close  \n0    47.849998    18737500      45.773155  \n1    46.080002    29391400      44.079983  \n2    45.000000    33835000      43.046864  \n3    44.959999    26614900      43.008595  \n4    45.110001    25197600      43.152081  \n..         ...         ...            ...  \n246  29.580000    32972100      29.580000  \n247  29.400000    39856900      29.400000  \n248  28.990000    37413300      28.990000  \n249  28.400000    46884700      28.400000  \n250  28.700001    30349700      28.700001  \n\n[251 rows x 121 columns]\n"
     ]
    }
   ],
   "source": [
    "# 4. Filtering Data\n",
    "filtered_df = df[df['AAPL_Close'] > 100]\n",
    "print(\"\\nFiltered DataFrame:\")\n",
    "print(filtered_df)"
   ]
  },
  {
   "cell_type": "code",
   "execution_count": 0,
   "metadata": {
    "application/vnd.databricks.v1+cell": {
     "cellMetadata": {
      "byteLimit": 2048000,
      "rowLimit": 10000
     },
     "inputWidgets": {},
     "nuid": "b62dc72d-c58f-4dbb-89b5-aaa29bf60ea8",
     "showTitle": false,
     "title": ""
    }
   },
   "outputs": [
    {
     "output_type": "stream",
     "name": "stdout",
     "output_type": "stream",
     "text": [
      "\nMean AAPL_Close for each date:\nDate\n2023-01-13    134.759995\n2023-01-17    135.940002\n2023-01-18    135.210007\n2023-01-19    135.270004\n2023-01-20    137.869995\n                 ...    \n2024-01-08    185.559998\n2024-01-09    185.139999\n2024-01-10    186.190002\n2024-01-11    185.589996\n2024-01-12    185.919998\nName: AAPL_Close, Length: 251, dtype: float64\n"
     ]
    }
   ],
   "source": [
    "# 5. Grouping and Aggregation\n",
    "grouped_mean = df.groupby('Date')['AAPL_Close'].mean()\n",
    "print(\"\\nMean AAPL_Close for each date:\")\n",
    "print(grouped_mean)"
   ]
  },
  {
   "cell_type": "code",
   "execution_count": 0,
   "metadata": {
    "application/vnd.databricks.v1+cell": {
     "cellMetadata": {
      "byteLimit": 2048000,
      "rowLimit": 10000
     },
     "inputWidgets": {},
     "nuid": "47e632e9-253e-4406-b92e-b2dfb646d796",
     "showTitle": false,
     "title": ""
    }
   },
   "outputs": [
    {
     "output_type": "stream",
     "name": "stdout",
     "output_type": "stream",
     "text": [
      "\n5-day rolling mean of AAPL_Close:\n0             NaN\n1             NaN\n2             NaN\n3             NaN\n4      135.810001\n          ...    \n246    183.707999\n247    183.607999\n248    183.995999\n249    184.731998\n250    185.679999\nName: AAPL_Close, Length: 251, dtype: float64\n"
     ]
    }
   ],
   "source": [
    "# 6. Rolling Statistics\n",
    "rolling_mean = df['AAPL_Close'].rolling(window=5).mean()\n",
    "print(\"\\n5-day rolling mean of AAPL_Close:\")\n",
    "print(rolling_mean)"
   ]
  },
  {
   "cell_type": "code",
   "execution_count": 0,
   "metadata": {
    "application/vnd.databricks.v1+cell": {
     "cellMetadata": {
      "byteLimit": 2048000,
      "rowLimit": 10000
     },
     "inputWidgets": {},
     "nuid": "0beed80a-1a6c-48f2-8be3-8da52c726e87",
     "showTitle": false,
     "title": ""
    }
   },
   "outputs": [
    {
     "output_type": "stream",
     "name": "stdout",
     "output_type": "stream",
     "text": [
      "\nCorrelation matrix:\n               AAPL_Open  AAPL_High  AAPL_Low  AAPL_Close  AAPL_Volume  \\\nAAPL_Open       1.000000   0.997225  0.997564    0.993760    -0.257782   \nAAPL_High       0.997225   1.000000  0.997510    0.997283    -0.229493   \nAAPL_Low        0.997564   0.997510  1.000000    0.997600    -0.269286   \nAAPL_Close      0.993760   0.997283  0.997600    1.000000    -0.251044   \nAAPL_Volume    -0.257782  -0.229493 -0.269286   -0.251044     1.000000   \n...                  ...        ...       ...         ...          ...   \nPFE_High       -0.760133  -0.759591 -0.758806   -0.760497     0.202293   \nPFE_Low        -0.755367  -0.754605 -0.753580   -0.755002     0.198224   \nPFE_Close      -0.759835  -0.758906 -0.757828   -0.758761     0.205576   \nPFE_Volume      0.289903   0.288841  0.290405    0.291983     0.159529   \nPFE_Adj Close  -0.748900  -0.747998 -0.747198   -0.748025     0.203712   \n\n               AAPL_Adj Close  GOOGL_Open  GOOGL_High  GOOGL_Low  GOOGL_Close  \\\nAAPL_Open            0.993753    0.835049    0.832051   0.833978     0.828028   \nAAPL_High            0.997209    0.836287    0.835708   0.836452     0.832280   \nAAPL_Low             0.997521    0.830234    0.828498   0.831026     0.826148   \nAAPL_Close           0.999930    0.832361    0.832479   0.834350     0.832005   \nAAPL_Volume         -0.251889   -0.187152   -0.173963  -0.183340    -0.176909   \n...                       ...         ...         ...        ...          ...   \nPFE_High            -0.767116   -0.850507   -0.848348  -0.853056    -0.851035   \nPFE_Low             -0.761707   -0.851717   -0.849614  -0.853777    -0.851811   \nPFE_Close           -0.765401   -0.852219   -0.849912  -0.854092    -0.851732   \nPFE_Volume           0.295120    0.293216    0.290518   0.290946     0.290699   \nPFE_Adj Close       -0.754648   -0.837509   -0.835172  -0.839430    -0.837088   \n\n               ...    KO_Low  KO_Close  KO_Volume  KO_Adj Close  PFE_Open  \\\nAAPL_Open      ... -0.134535 -0.144622   0.003658      0.040426 -0.759370   \nAAPL_High      ... -0.143781 -0.152497   0.007909      0.032211 -0.758800   \nAAPL_Low       ... -0.133367 -0.142525   0.005671      0.042664 -0.757846   \nAAPL_Close     ... -0.142439 -0.149515   0.007078      0.036069 -0.759516   \nAAPL_Volume    ... -0.004808  0.007033   0.413925     -0.047994  0.195039   \n...            ...       ...       ...        ...           ...       ...   \nPFE_High       ...  0.533923  0.541735  -0.083812      0.353498  0.997945   \nPFE_Low        ...  0.540534  0.548389  -0.094006      0.361456  0.998462   \nPFE_Close      ...  0.535958  0.545663  -0.084892      0.358240  0.996002   \nPFE_Volume     ... -0.174329 -0.168981   0.426301     -0.077794 -0.442286   \nPFE_Adj Close  ...  0.535990  0.545208  -0.089500      0.358642  0.994947   \n\n               PFE_High   PFE_Low  PFE_Close  PFE_Volume  PFE_Adj Close  \nAAPL_Open     -0.760133 -0.755367  -0.759835    0.289903      -0.748900  \nAAPL_High     -0.759591 -0.754605  -0.758906    0.288841      -0.747998  \nAAPL_Low      -0.758806 -0.753580  -0.757828    0.290405      -0.747198  \nAAPL_Close    -0.760497 -0.755002  -0.758761    0.291983      -0.748025  \nAAPL_Volume    0.202293  0.198224   0.205576    0.159529       0.203712  \n...                 ...       ...        ...         ...            ...  \nPFE_High       1.000000  0.998137   0.998433   -0.419717       0.997667  \nPFE_Low        0.998137  1.000000   0.998251   -0.447748       0.997321  \nPFE_Close      0.998433  0.998251   1.000000   -0.425091       0.999293  \nPFE_Volume    -0.419717 -0.447748  -0.425091    1.000000      -0.428268  \nPFE_Adj Close  0.997667  0.997321   0.999293   -0.428268       1.000000  \n\n[120 rows x 120 columns]\n"
     ]
    }
   ],
   "source": [
    "# 7. Correlation\n",
    "correlation_matrix = df.corr()\n",
    "print(\"\\nCorrelation matrix:\")\n",
    "print(correlation_matrix)\n"
   ]
  },
  {
   "cell_type": "code",
   "execution_count": 0,
   "metadata": {
    "application/vnd.databricks.v1+cell": {
     "cellMetadata": {
      "byteLimit": 2048000,
      "rowLimit": 10000
     },
     "inputWidgets": {},
     "nuid": "c94c4a77-a5e2-4ba9-ae57-c7a117ce2d54",
     "showTitle": false,
     "title": ""
    }
   },
   "outputs": [],
   "source": [
    "# 8. Plotting\n",
    "df['AAPL_Close'].plot(title='AAPL Close Price')"
   ]
  },
  {
   "cell_type": "code",
   "execution_count": 0,
   "metadata": {
    "application/vnd.databricks.v1+cell": {
     "cellMetadata": {
      "byteLimit": 2048000,
      "rowLimit": 10000
     },
     "inputWidgets": {},
     "nuid": "bc105786-2fad-47ae-ba06-e449ed36c5fe",
     "showTitle": false,
     "title": ""
    }
   },
   "outputs": [
    {
     "output_type": "stream",
     "name": "stdout",
     "output_type": "stream",
     "text": [
      "\nResampled data for monthly mean:\n             AAPL_Open   AAPL_High    AAPL_Low  AAPL_Close   AAPL_Volume  \\\nDate                                                                       \n1970-01-31  174.049682  175.639164  172.796773  174.361674  5.845548e+07   \n\n            AAPL_Adj Close  GOOGL_Open  GOOGL_High   GOOGL_Low  GOOGL_Close  \\\nDate                                                                          \n1970-01-31      173.958383  120.242112  121.740119  119.110637    120.49745   \n\n            ...     KO_Low   KO_Close     KO_Volume  KO_Adj Close   PFE_Open  \\\nDate        ...                                                                \n1970-01-31  ...  59.431434  59.794263  1.380185e+07     58.794631  36.273147   \n\n            PFE_High    PFE_Low  PFE_Close    PFE_Volume  PFE_Adj Close  \nDate                                                                     \n1970-01-31  36.59255  35.915458  36.228247  2.881933e+07      35.430918  \n\n[1 rows x 120 columns]\n"
     ]
    }
   ],
   "source": [
    "# 9. Time Series Analysis\n",
    "df['Date'] = pd.to_datetime(df['AAPL_Close'])\n",
    "df.set_index('Date', inplace=True)\n",
    "resampled_data = df.resample('M').mean()\n",
    "print(\"\\nResampled data for monthly mean:\")\n",
    "print(resampled_data)"
   ]
  },
  {
   "cell_type": "code",
   "execution_count": 0,
   "metadata": {
    "application/vnd.databricks.v1+cell": {
     "cellMetadata": {
      "byteLimit": 2048000,
      "rowLimit": 10000
     },
     "inputWidgets": {},
     "nuid": "371daedc-4ca0-49d9-85a1-f3ef7f9e283a",
     "showTitle": false,
     "title": ""
    }
   },
   "outputs": [
    {
     "output_type": "stream",
     "name": "stdout",
     "output_type": "stream",
     "text": [
      "Python interpreter will be restarted.\nRequirement already satisfied: matplotlib in /databricks/python3/lib/python3.9/site-packages (3.4.3)\nRequirement already satisfied: seaborn in /databricks/python3/lib/python3.9/site-packages (0.11.2)\nRequirement already satisfied: python-dateutil>=2.7 in /databricks/python3/lib/python3.9/site-packages (from matplotlib) (2.8.2)\nRequirement already satisfied: kiwisolver>=1.0.1 in /databricks/python3/lib/python3.9/site-packages (from matplotlib) (1.3.1)\nRequirement already satisfied: numpy>=1.16 in /databricks/python3/lib/python3.9/site-packages (from matplotlib) (1.20.3)\nRequirement already satisfied: pyparsing>=2.2.1 in /databricks/python3/lib/python3.9/site-packages (from matplotlib) (3.0.4)\nRequirement already satisfied: cycler>=0.10 in /databricks/python3/lib/python3.9/site-packages (from matplotlib) (0.10.0)\nRequirement already satisfied: pillow>=6.2.0 in /databricks/python3/lib/python3.9/site-packages (from matplotlib) (8.4.0)\nRequirement already satisfied: scipy>=1.0 in /databricks/python3/lib/python3.9/site-packages (from seaborn) (1.7.1)\nRequirement already satisfied: pandas>=0.23 in /databricks/python3/lib/python3.9/site-packages (from seaborn) (1.3.4)\nRequirement already satisfied: six in /databricks/python3/lib/python3.9/site-packages (from cycler>=0.10->matplotlib) (1.16.0)\nRequirement already satisfied: pytz>=2017.3 in /local_disk0/.ephemeral_nfs/envs/pythonEnv-734d1d30-738b-4726-b7b3-f5d1dac22f6e/lib/python3.9/site-packages (from pandas>=0.23->seaborn) (2023.3.post1)\nPython interpreter will be restarted.\n"
     ]
    }
   ],
   "source": [
    "pip install matplotlib seaborn"
   ]
  },
  {
   "cell_type": "code",
   "execution_count": 0,
   "metadata": {
    "application/vnd.databricks.v1+cell": {
     "cellMetadata": {},
     "inputWidgets": {},
     "nuid": "3354ec3b-cb2f-48a2-8077-4da472c55ac0",
     "showTitle": false,
     "title": ""
    }
   },
   "outputs": [],
   "source": []
  }
 ],
 "metadata": {
  "application/vnd.databricks.v1+notebook": {
   "dashboards": [],
   "language": "python",
   "notebookMetadata": {
    "pythonIndentUnit": 4
   },
   "notebookName": "1.Big Data project final 2024-01-10 22:45:34",
   "widgets": {}
  }
 },
 "nbformat": 4,
 "nbformat_minor": 0
}
